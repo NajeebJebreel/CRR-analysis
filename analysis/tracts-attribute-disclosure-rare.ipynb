{
 "cells": [
  {
   "cell_type": "code",
   "execution_count": 3,
   "id": "63258948",
   "metadata": {},
   "outputs": [],
   "source": [
    "import torch\n",
    "import pandas as pd\n",
    "import numpy as np\n",
    "import matplotlib.pyplot as plt\n",
    "import math\n",
    "import glob\n",
    "from scipy.stats import pearsonr\n",
    "import seaborn as sns"
   ]
  },
  {
   "cell_type": "code",
   "execution_count": 4,
   "id": "d85867e4",
   "metadata": {},
   "outputs": [],
   "source": [
    "def convert_data2string(df):\n",
    "    vals = df.values.astype(str)\n",
    "    vals = np.array([' '.join(x) for x in vals])\n",
    "    # should be fine now, but this checks that nothing is getting truncated due to type casting\n",
    "    test = np.array([[y.isdigit() for y in x.split(' ')] for x in vals])\n",
    "    assert (test.sum(axis=-1) == df.shape[-1]).all()\n",
    "    return vals"
   ]
  },
  {
   "cell_type": "code",
   "execution_count": 6,
   "id": "3450cc6d",
   "metadata": {},
   "outputs": [
    {
     "name": "stdout",
     "output_type": "stream",
     "text": [
      "50 50\n"
     ]
    }
   ],
   "source": [
    "# Tracts random\n",
    "files_orig_rand = glob.glob('../results/init_random/tracts/*original*.t7')\n",
    "files_rec_rand = glob.glob('../results/init_random/tracts/*reconstructed*.t7')\n",
    "files_orig_rand = sorted(files_orig_rand)\n",
    "files_rec_rand = sorted(files_rec_rand)\n",
    "print(len(files_orig_rand), len(files_rec_rand))"
   ]
  },
  {
   "cell_type": "code",
   "execution_count": 12,
   "id": "60672915",
   "metadata": {},
   "outputs": [
    {
     "name": "stdout",
     "output_type": "stream",
     "text": [
      "Races to drop:\n",
      " [0 1 2 3 5]\n"
     ]
    }
   ],
   "source": [
    "# Invistigate confidential attribute distribution\n",
    "all_orig_data = pd.concat([torch.load(files_orig_rand[i]) for i in range(len(files_orig_rand))])\n",
    "\n",
    "data = all_orig_data['CENRACE'].values\n",
    "label_frequency = [] \n",
    "for l in range(data.min(), data.max() + 1):\n",
    "    c = len(np.where(data == l)[0])\n",
    "    label_frequency.append(c)\n",
    "\n",
    "label_frequency = np.array(label_frequency)\n",
    "q1, q3 = np.quantile(label_frequency, q = [0.25, 0.75])\n",
    "iqr = q3-q1\n",
    "drop_races = np.where(label_frequency > q3 +15*iqr)[0]\n",
    "print('Races to drop:\\n', drop_races)"
   ]
  },
  {
   "cell_type": "code",
   "execution_count": 17,
   "id": "393a5149",
   "metadata": {},
   "outputs": [],
   "source": [
    "# Attribute disclosure experiments\n",
    "orig_prototype_confidential_attr_same = []\n",
    "orig_prototype_confidential_attr_diff = []\n",
    "rec_prototype_confidential_attr_match = []\n",
    "rec_prototype_confidential_attr_no_match = []\n",
    "cnfd_attr_in_origi = []\n",
    "\n",
    "for i in range(len(files_orig_rand)):\n",
    "    orig_data = torch.load(files_orig_rand[i])\n",
    "    filtered_orig_data = orig_data[~orig_data['CENRACE'].isin(drop_races)]\n",
    "    rec_data =  pd.concat([d for d in torch.load(files_rec_rand[i])])\n",
    "\n",
    "    # Remove 'CENRACE' column from original and reconstructed data\n",
    "    orig_data_public_attr = filtered_orig_data.drop('CENRACE', axis=1)\n",
    "    rec_data_public_attr = rec_data.drop('CENRACE', axis=1)\n",
    "\n",
    "    # Convert DataFrames to strings\n",
    "    orig_data_public_attr_str = convert_data2string(orig_data_public_attr)\n",
    "    rec_data_public_attr_str = convert_data2string(rec_data_public_attr)\n",
    "\n",
    "    # Create prototype sets and initialize dictionary\n",
    "    prototype_orig_data_public_attr = sorted(set(orig_data_public_attr_str))\n",
    "\n",
    "    # Collect confidential attribute data\n",
    "    for prototype in prototype_orig_data_public_attr:\n",
    "        idxs1 = np.where(orig_data_public_attr_str == prototype)[0]\n",
    "        idxs2 = np.where(rec_data_public_attr_str == prototype)[0]\n",
    "        cnfd1 = filtered_orig_data.iloc[idxs1]['CENRACE'].values\n",
    "        cnfd2 = rec_data.iloc[idxs2]['CENRACE'].values\n",
    "        if np.all(cnfd1 == cnfd1[0]):\n",
    "            orig_prototype_confidential_attr_same.append(len(cnfd1))\n",
    "            if np.all(cnfd2 == cnfd1[0]):\n",
    "                rec_prototype_confidential_attr_match.append(cnfd2)\n",
    "            else:\n",
    "                cnfd_attr_in_origi.append(cnfd1[0])\n",
    "                rec_prototype_confidential_attr_no_match.append(cnfd2)\n",
    "        else:\n",
    "            orig_prototype_confidential_attr_diff.append(len(cnfd1))\n",
    "\n",
    "orig_prototype_confidential_attr_same = np.array(orig_prototype_confidential_attr_same)\n",
    "orig_prototype_confidential_attr_diff = np.array(orig_prototype_confidential_attr_diff)\n",
    "cnfd_attr_in_origi = np.array(cnfd_attr_in_origi)"
   ]
  },
  {
   "cell_type": "code",
   "execution_count": 18,
   "id": "73bbbc76",
   "metadata": {},
   "outputs": [
    {
     "name": "stdout",
     "output_type": "stream",
     "text": [
      "# Prototypes in D: 1885\n",
      "# Prototypes with the same Race in D: 1872\n"
     ]
    }
   ],
   "source": [
    "# Number of prototypes in D with and without identical confidential attribute \n",
    "print('# Prototypes in D:', len(orig_prototype_confidential_attr_same) + len(orig_prototype_confidential_attr_diff))\n",
    "print('# Prototypes with the same Race in D:', len(orig_prototype_confidential_attr_same))"
   ]
  },
  {
   "cell_type": "code",
   "execution_count": null,
   "id": "6d83754c",
   "metadata": {},
   "outputs": [],
   "source": [
    "# # Plot a histogram with their distribution by their multiplicity. \n",
    "idxs = (orig_prototype_confidential_attr_same > 0)\n",
    "ax = sns.histplot(orig_prototype_confidential_attr_same[idxs], kde = False, binwidth=2)\n",
    "ax.set(xlabel='Multiplicity of prototype with the same Race', ylabel='Frequency')\n",
    "# plt.savefig('figures/tract_rand_orig_prototype_same_multiplicity_hist_filter_0.png', dpi = 300)\n",
    "plt.show()\n",
    "\n",
    "# Plot the histogram also without singletons (prototypes with multiplicity=1). \n",
    "idxs = (orig_prototype_confidential_attr_same > 15)\n",
    "ax = sns.histplot(orig_prototype_confidential_attr_same[idxs], kde = False, binwidth=2)\n",
    "ax.set(xlabel='Multiplicity of prototype with the same Race', ylabel='Frequency')\n",
    "# plt.savefig('figures/tract_rand_orig_prototype_same_multiplicity_hist_filtered_15.png', dpi = 300)\n",
    "plt.show()\n",
    "# # Also, which is the maximum multiplicity of these prototypes?\n",
    "# print('Maximum multiplicity of these prototypes:', orig_prototype_confidential_attr_same.max())"
   ]
  },
  {
   "cell_type": "code",
   "execution_count": 15,
   "id": "b79b802b",
   "metadata": {},
   "outputs": [
    {
     "name": "stdout",
     "output_type": "stream",
     "text": [
      "Appear in D' with matching confidential attributes: 108\n",
      "Appear in D' with non-matching confidential attributes: 1764\n"
     ]
    }
   ],
   "source": [
    "# How many of them appear in D' by matching confidential attributes\n",
    "print('Appear in D\\' with matching confidential attributes:', len(rec_prototype_confidential_attr_match))\n",
    "print('Appear in D\\' with non-matching confidential attributes:', len(rec_prototype_confidential_attr_no_match))"
   ]
  },
  {
   "cell_type": "code",
   "execution_count": null,
   "id": "f02bb655",
   "metadata": {},
   "outputs": [],
   "source": [
    "# Histogram of matching prototypes in D'\n",
    "data = np.array([len(d) for d in rec_prototype_confidential_attr_match])\n",
    "for filtr in [0, 1, 2]:\n",
    "    idxs = (data > filtr)\n",
    "    ax = sns.histplot(data=data[idxs], label='Matching', kde = False, binwidth=1, color = 'red')\n",
    "    ax.set(xlabel='Multiplicity of prototype in D\\'', ylabel='Frequency')\n",
    "#     plt.savefig('figures/tract_rand_rec_prototype_matching_multiplicity_hist_filter_{}.png'.format(filtr), dpi = 300)\n",
    "    plt.show()"
   ]
  },
  {
   "cell_type": "code",
   "execution_count": null,
   "id": "d56fbf5f",
   "metadata": {},
   "outputs": [],
   "source": [
    "# Histogram of non-matching prototypes in D'\n",
    "data = np.array([len(d) for d in rec_prototype_confidential_attr_no_match])\n",
    "for filtr in [0, 20, 50, 200]:\n",
    "    idxs = (data > filtr)\n",
    "    ax = sns.histplot(data=data[idxs], label='Non-matching', kde = False, binwidth=20, color = 'green')\n",
    "    ax.set(xlabel='Multiplicity of prototype in D\\'', ylabel='Frequency')\n",
    "#     plt.savefig('figures/tract_rand_rec_prototype_non_matching_multiplicity_hist_filter_{}.png'.format(filtr), dpi = 300)\n",
    "    plt.show()"
   ]
  },
  {
   "cell_type": "code",
   "execution_count": 19,
   "id": "ca801ee4",
   "metadata": {},
   "outputs": [
    {
     "name": "stdout",
     "output_type": "stream",
     "text": [
      "Average difference in confidential attribute for non-matching records:77.33%\n"
     ]
    }
   ],
   "source": [
    "# Divergence in confidential attribute of non-matching records\n",
    "avg_diff = []\n",
    "for cnfd, cnfds in zip(cnfd_attr_in_origi, rec_prototype_confidential_attr_no_match):\n",
    "    a = (cnfds!=cnfd).mean()\n",
    "    avg_diff.append(a)\n",
    "\n",
    "print('Average difference in confidential attribute for non-matching records:{:0.2f}%'.format(np.mean(avg_diff)*100))"
   ]
  },
  {
   "cell_type": "code",
   "execution_count": 20,
   "id": "21a00e0c",
   "metadata": {},
   "outputs": [
    {
     "name": "stdout",
     "output_type": "stream",
     "text": [
      "50 50\n"
     ]
    }
   ],
   "source": [
    "# Tracts baseline\n",
    "files_orig_base = glob.glob('../results/init_baseline/tracts/*original*.t7')\n",
    "files_rec_base = glob.glob('../results/init_baseline/tracts/*reconstructed*.t7')\n",
    "files_orig_base = sorted(files_orig_base)\n",
    "files_rec_base = sorted(files_rec_base)\n",
    "print(len(files_orig_base), len(files_rec_base))"
   ]
  },
  {
   "cell_type": "code",
   "execution_count": 21,
   "id": "3f560d4a",
   "metadata": {},
   "outputs": [],
   "source": [
    "# Attribute disclosure experiments\n",
    "orig_prototype_confidential_attr_same = []\n",
    "orig_prototype_confidential_attr_diff = []\n",
    "rec_prototype_confidential_attr_match = []\n",
    "rec_prototype_confidential_attr_no_match = []\n",
    "cnfd_attr_in_origi = []\n",
    "\n",
    "for i in range(len(files_orig_base)):\n",
    "    orig_data = torch.load(files_orig_base[i])\n",
    "    filtered_orig_data = orig_data[~orig_data['CENRACE'].isin(drop_races)]\n",
    "    rec_data =  pd.concat([d for d in torch.load(files_rec_base[i])])\n",
    "\n",
    "    # Remove 'CENRACE' column from original and reconstructed data\n",
    "    orig_data_public_attr = filtered_orig_data.drop('CENRACE', axis=1)\n",
    "    rec_data_public_attr = rec_data.drop('CENRACE', axis=1)\n",
    "\n",
    "    # Convert DataFrames to strings\n",
    "    orig_data_public_attr_str = convert_data2string(orig_data_public_attr)\n",
    "    rec_data_public_attr_str = convert_data2string(rec_data_public_attr)\n",
    "\n",
    "    # Create prototype sets and initialize dictionary\n",
    "    prototype_orig_data_public_attr = sorted(set(orig_data_public_attr_str))\n",
    "\n",
    "    # Collect confidential attribute data\n",
    "    for prototype in prototype_orig_data_public_attr:\n",
    "        idxs1 = np.where(orig_data_public_attr_str == prototype)[0]\n",
    "        idxs2 = np.where(rec_data_public_attr_str == prototype)[0]\n",
    "        cnfd1 = filtered_orig_data.iloc[idxs1]['CENRACE'].values\n",
    "        cnfd2 = rec_data.iloc[idxs2]['CENRACE'].values\n",
    "        if np.all(cnfd1 == cnfd1[0]):\n",
    "            orig_prototype_confidential_attr_same.append(len(cnfd1))\n",
    "            if np.all(cnfd2 == cnfd1[0]):\n",
    "                rec_prototype_confidential_attr_match.append(cnfd2)\n",
    "            else:\n",
    "                cnfd_attr_in_origi.append(cnfd1[0])\n",
    "                rec_prototype_confidential_attr_no_match.append(cnfd2)\n",
    "        else:\n",
    "            orig_prototype_confidential_attr_diff.append(len(cnfd1))\n",
    "\n",
    "orig_prototype_confidential_attr_same = np.array(orig_prototype_confidential_attr_same)\n",
    "orig_prototype_confidential_attr_diff = np.array(orig_prototype_confidential_attr_diff)\n",
    "cnfd_attr_in_origi = np.array(cnfd_attr_in_origi)"
   ]
  },
  {
   "cell_type": "code",
   "execution_count": 22,
   "id": "862241b5",
   "metadata": {},
   "outputs": [
    {
     "name": "stdout",
     "output_type": "stream",
     "text": [
      "# Prototypes in D: 1885\n",
      "# Prototypes with the same Race in D: 1872\n"
     ]
    }
   ],
   "source": [
    "# Number of prototypes in D with and without identical confidential attribute \n",
    "print('# Prototypes in D:', len(orig_prototype_confidential_attr_same) + len(orig_prototype_confidential_attr_diff))\n",
    "print('# Prototypes with the same Race in D:', len(orig_prototype_confidential_attr_same))"
   ]
  },
  {
   "cell_type": "code",
   "execution_count": null,
   "id": "580a5a14",
   "metadata": {},
   "outputs": [],
   "source": [
    "# # Plot a histogram with their distribution by their multiplicity. \n",
    "idxs = (orig_prototype_confidential_attr_same > 0)\n",
    "ax = sns.histplot(orig_prototype_confidential_attr_same[idxs], kde = False, binwidth=2)\n",
    "ax.set(xlabel='Multiplicity of prototype with the same Race', ylabel='Frequency')\n",
    "plt.savefig('figures/tract_base_orig_prototype_same_multiplicity_hist_filter_0.png', dpi = 300)\n",
    "plt.show()\n",
    "\n",
    "# Plot the histogram also without singletons (prototypes with multiplicity=1). \n",
    "idxs = (orig_prototype_confidential_attr_same > 15)\n",
    "ax = sns.histplot(orig_prototype_confidential_attr_same[idxs], kde = False, binwidth=2)\n",
    "ax.set(xlabel='Multiplicity of prototype with the same Race', ylabel='Frequency')\n",
    "plt.savefig('figures/tract_base_orig_prototype_same_multiplicity_hist_filtered_15.png', dpi = 300)\n",
    "plt.show()\n",
    "# # Also, which is the maximum multiplicity of these prototypes?\n",
    "print('Maximum multiplicity of these prototypes:', orig_prototype_confidential_attr_same.max())"
   ]
  },
  {
   "cell_type": "code",
   "execution_count": 23,
   "id": "7c196ada",
   "metadata": {},
   "outputs": [
    {
     "name": "stdout",
     "output_type": "stream",
     "text": [
      "Appear in D' with matching confidential attributes: 221\n",
      "Appear in D' with non-matching confidential attributes: 1651\n"
     ]
    }
   ],
   "source": [
    "# How many of them appear in D' by matching confidential attributes\n",
    "print('Appear in D\\' with matching confidential attributes:', len(rec_prototype_confidential_attr_match))\n",
    "print('Appear in D\\' with non-matching confidential attributes:', len(rec_prototype_confidential_attr_no_match))"
   ]
  },
  {
   "cell_type": "code",
   "execution_count": null,
   "id": "c244503c",
   "metadata": {},
   "outputs": [],
   "source": [
    "# Histogram of matching prototypes in D'\n",
    "data = np.array([len(d) for d in rec_prototype_confidential_attr_match])\n",
    "for filtr in [0, 20, 100, 200]:\n",
    "    idxs = (data > filtr)\n",
    "    ax = sns.histplot(data=data[idxs], label='Matching', kde = False, binwidth=20, color = 'red')\n",
    "    ax.set(xlabel='Multiplicity of prototype in D\\'', ylabel='Frequency')\n",
    "    plt.savefig('figures/tract_base_rec_prototype_matching_multiplicity_hist_filter_{}.png'.format(filtr), dpi = 300)\n",
    "    plt.show()"
   ]
  },
  {
   "cell_type": "code",
   "execution_count": null,
   "id": "c63219f2",
   "metadata": {},
   "outputs": [],
   "source": [
    "# Histogram of non-matching prototypes in D'\n",
    "data = np.array([len(d) for d in rec_prototype_confidential_attr_no_match])\n",
    "for filtr in [0, 200, 500, 1000]:\n",
    "    idxs = (data > filtr)\n",
    "    ax = sns.histplot(data=data[idxs], label='Non-matching', kde = False, binwidth=150, color = 'green')\n",
    "    ax.set(xlabel='Multiplicity of prototype in D\\'', ylabel='Frequency')\n",
    "    plt.savefig('figures/tract_base_rec_prototype_non_matching_multiplicity_hist_filter_{}.png'.format(filtr), dpi = 300)\n",
    "    plt.show()"
   ]
  },
  {
   "cell_type": "code",
   "execution_count": 24,
   "id": "fa2e4853",
   "metadata": {},
   "outputs": [
    {
     "name": "stdout",
     "output_type": "stream",
     "text": [
      "Average difference in confidential attribute for non-matching records:27.56%\n"
     ]
    }
   ],
   "source": [
    "# Divergence in confidential attribute of non-matching records\n",
    "avg_diff = []\n",
    "for cnfd, cnfds in zip(cnfd_attr_in_origi, rec_prototype_confidential_attr_no_match):\n",
    "    a = (cnfds!=cnfd).mean()\n",
    "    avg_diff.append(a)\n",
    "\n",
    "print('Average difference in confidential attribute for non-matching records:{:0.2f}%'.format(np.mean(avg_diff)*100))"
   ]
  },
  {
   "cell_type": "code",
   "execution_count": null,
   "id": "5c2615d1",
   "metadata": {},
   "outputs": [],
   "source": []
  }
 ],
 "metadata": {
  "kernelspec": {
   "display_name": "Python 3 (ipykernel)",
   "language": "python",
   "name": "python3"
  },
  "language_info": {
   "codemirror_mode": {
    "name": "ipython",
    "version": 3
   },
   "file_extension": ".py",
   "mimetype": "text/x-python",
   "name": "python",
   "nbconvert_exporter": "python",
   "pygments_lexer": "ipython3",
   "version": "3.8.16"
  }
 },
 "nbformat": 4,
 "nbformat_minor": 5
}
