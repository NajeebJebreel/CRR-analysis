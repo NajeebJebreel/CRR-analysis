{
 "cells": [
  {
   "cell_type": "code",
   "execution_count": null,
   "id": "a07f7203",
   "metadata": {},
   "outputs": [],
   "source": [
    "import torch\n",
    "import pandas as pd\n",
    "import numpy as np\n",
    "import matplotlib.pyplot as plt\n",
    "import math\n",
    "import glob\n",
    "from scipy.stats import pearsonr\n",
    "import seaborn as sns"
   ]
  },
  {
   "cell_type": "code",
   "execution_count": null,
   "id": "d1e8775d",
   "metadata": {},
   "outputs": [],
   "source": [
    "tracts_files_names_rand = glob.glob('../results/init_random/tracts/*original*.t7')\n",
    "blocks_files_names_rand = glob.glob('../results/init_random/blocks/*original*.t7')\n",
    "print('Number of tracts:{}, Number of blocks:{}'.format(len(tracts_files_names_rand), len(blocks_files_names_rand)))"
   ]
  },
  {
   "cell_type": "code",
   "execution_count": null,
   "id": "8bdf20df",
   "metadata": {},
   "outputs": [],
   "source": [
    "tracts_files_names_base = glob.glob('../results/init_baseline/tracts/*original*.t7')\n",
    "blocks_files_names_base = glob.glob('../results/init_baseline/blocks/*original*.t7')\n",
    "print('Number of tracts:{}, Number of blocks:{}'.format(len(tracts_files_names_base), len(blocks_files_names_base)))"
   ]
  },
  {
   "cell_type": "code",
   "execution_count": null,
   "id": "8d9f1598",
   "metadata": {},
   "outputs": [],
   "source": [
    "tracts_sizes = []\n",
    "blocks_sizes = []\n",
    "\n",
    "for fn in tracts_files_names_rand:\n",
    "    data = torch.load(fn)\n",
    "    tracts_sizes.append(len(data))\n",
    "\n",
    "for fn in blocks_files_names_rand:\n",
    "    data = torch.load(fn)\n",
    "    blocks_sizes.append(len(data))"
   ]
  },
  {
   "cell_type": "code",
   "execution_count": null,
   "id": "35c07927",
   "metadata": {},
   "outputs": [],
   "source": [
    "print('Tracts average size:{:0.0f}, Blocks average size:{:0.0f}'.format(np.mean(tracts_sizes), np.mean(blocks_sizes)))"
   ]
  },
  {
   "cell_type": "code",
   "execution_count": null,
   "id": "2f709a55",
   "metadata": {},
   "outputs": [],
   "source": [
    "# Histogram of tracts sizes\n",
    "ax = sns.histplot(tracts_sizes, kde = False)\n",
    "ax.set(xlabel='Tract size', ylabel='Frequency')\n",
    "plt.savefig('figures/tract_size_hist.png', dpi = 300)\n",
    "plt.show()"
   ]
  },
  {
   "cell_type": "code",
   "execution_count": null,
   "id": "8063aa89",
   "metadata": {},
   "outputs": [],
   "source": [
    "# Histogram of blocks sizes\n",
    "\n",
    "ax = sns.histplot(blocks_sizes, kde = False, color = 'brown')\n",
    "ax.set(xlabel='Block size', ylabel='Frequency')\n",
    "plt.savefig('figures/block_size_hist.png', dpi = 300)\n",
    "plt.show()"
   ]
  },
  {
   "cell_type": "code",
   "execution_count": null,
   "id": "4d02457c",
   "metadata": {},
   "outputs": [],
   "source": []
  }
 ],
 "metadata": {
  "kernelspec": {
   "display_name": "Python 3 (ipykernel)",
   "language": "python",
   "name": "python3"
  },
  "language_info": {
   "codemirror_mode": {
    "name": "ipython",
    "version": 3
   },
   "file_extension": ".py",
   "mimetype": "text/x-python",
   "name": "python",
   "nbconvert_exporter": "python",
   "pygments_lexer": "ipython3",
   "version": "3.8.16"
  }
 },
 "nbformat": 4,
 "nbformat_minor": 5
}
